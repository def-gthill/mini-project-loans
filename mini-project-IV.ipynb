{
 "cells": [
  {
   "cell_type": "markdown",
   "metadata": {},
   "source": [
    "# Loan predictions\n",
    "\n",
    "## Problem Statement\n",
    "\n",
    "We want to automate the loan eligibility process based on customer details that are provided as online application forms are being filled. You can find the dataset [here](https://drive.google.com/file/d/1h_jl9xqqqHflI5PsuiQd_soNYxzFfjKw/view?usp=sharing). These details concern the customer's Gender, Marital Status, Education, Number of Dependents, Income, Loan Amount, Credit History and other things as well. \n",
    "\n",
    "|Variable| Description|\n",
    "|: ------------- |:-------------|\n",
    "|Loan_ID| Unique Loan ID|\n",
    "|Gender| Male/ Female|\n",
    "|Married| Applicant married (Y/N)|\n",
    "|Dependents| Number of dependents|\n",
    "|Education| Applicant Education (Graduate/ Under Graduate)|\n",
    "|Self_Employed| Self employed (Y/N)|\n",
    "|ApplicantIncome| Applicant income|\n",
    "|CoapplicantIncome| Coapplicant income|\n",
    "|LoanAmount| Loan amount in thousands|\n",
    "|Loan_Amount_Term| Term of loan in months|\n",
    "|Credit_History| credit history meets guidelines|\n",
    "|Property_Area| Urban/ Semi Urban/ Rural|\n",
    "|Loan_Status| Loan approved (Y/N)\n",
    "\n",
    "\n",
    "\n",
    "### Explore the problem in following stages:\n",
    "\n",
    "1. Hypothesis Generation – understanding the problem better by brainstorming possible factors that can impact the outcome\n",
    "2. Data Exploration – looking at categorical and continuous feature summaries and making inferences about the data.\n",
    "3. Data Cleaning – imputing missing values in the data and checking for outliers\n",
    "4. Feature Engineering – modifying existing variables and creating new ones for analysis\n",
    "5. Model Building – making predictive models on the data"
   ]
  },
  {
   "cell_type": "code",
   "execution_count": 1,
   "metadata": {},
   "outputs": [],
   "source": [
    "import numpy as np\n",
    "import pandas as pd\n",
    "\n",
    "from sklearn import preprocessing as pre, impute, compose\n",
    "from sklearn import dummy, linear_model as lm\n",
    "from sklearn import model_selection as ms, pipeline as pl\n",
    "from sklearn import metrics\n",
    "\n",
    "import pickle\n",
    "\n",
    "import matplotlib.pyplot as plt\n",
    "import seaborn as sns\n",
    "\n",
    "from bobs import prep, learn, plots\n",
    "import components"
   ]
  },
  {
   "cell_type": "markdown",
   "metadata": {},
   "source": [
    "## 1. Hypothesis Generation\n",
    "\n",
    "Generating a hypothesis is a major step in the process of analyzing data. This involves understanding the problem and formulating a meaningful hypothesis about what could potentially have a good impact on the outcome. This is done BEFORE looking at the data, and we end up creating a laundry list of the different analyses which we can potentially perform if data is available.\n",
    "\n",
    "#### Possible hypotheses\n",
    "Which applicants are more likely to get a loan\n",
    "\n",
    "1. Applicants having a credit history \n",
    "2. Applicants with higher applicant and co-applicant incomes\n",
    "3. Applicants with higher education level\n",
    "4. Properties in urban areas with high growth perspectives\n",
    "5. Applicants with fewer dependents they have to spend money on\n",
    "6. Married applicants (proxy for age, and more stability)\n",
    "7. Smaller amounts (it's easier to get a smaller loan!)\n",
    "8. There might be combined married + gender + dependent effects because of traditional two-parent households where the mother stays home: marriage would *increase* stability for the stay-at-home mom, *decrease* stability for the working father.\n",
    "\n",
    "Do more brainstorming and create some hypotheses of your own. Remember that the data might not be sufficient to test all of these, but forming these enables a better understanding of the problem."
   ]
  },
  {
   "cell_type": "markdown",
   "metadata": {},
   "source": [
    "## 2. Data Exploration\n",
    "Let's do some basic data exploration here and come up with some inferences about the data. Go ahead and try to figure out some irregularities and address them in the next section. "
   ]
  },
  {
   "cell_type": "code",
   "execution_count": 2,
   "metadata": {
    "collapsed": false,
    "jupyter": {
     "outputs_hidden": false
    }
   },
   "outputs": [
    {
     "data": {
      "text/html": [
       "<div>\n",
       "<style scoped>\n",
       "    .dataframe tbody tr th:only-of-type {\n",
       "        vertical-align: middle;\n",
       "    }\n",
       "\n",
       "    .dataframe tbody tr th {\n",
       "        vertical-align: top;\n",
       "    }\n",
       "\n",
       "    .dataframe thead th {\n",
       "        text-align: right;\n",
       "    }\n",
       "</style>\n",
       "<table border=\"1\" class=\"dataframe\">\n",
       "  <thead>\n",
       "    <tr style=\"text-align: right;\">\n",
       "      <th></th>\n",
       "      <th>Loan_ID</th>\n",
       "      <th>Gender</th>\n",
       "      <th>Married</th>\n",
       "      <th>Dependents</th>\n",
       "      <th>Education</th>\n",
       "      <th>Self_Employed</th>\n",
       "      <th>ApplicantIncome</th>\n",
       "      <th>CoapplicantIncome</th>\n",
       "      <th>LoanAmount</th>\n",
       "      <th>Loan_Amount_Term</th>\n",
       "      <th>Credit_History</th>\n",
       "      <th>Property_Area</th>\n",
       "      <th>Loan_Status</th>\n",
       "    </tr>\n",
       "  </thead>\n",
       "  <tbody>\n",
       "    <tr>\n",
       "      <th>0</th>\n",
       "      <td>LP001002</td>\n",
       "      <td>Male</td>\n",
       "      <td>No</td>\n",
       "      <td>0</td>\n",
       "      <td>Graduate</td>\n",
       "      <td>No</td>\n",
       "      <td>5849</td>\n",
       "      <td>0.0</td>\n",
       "      <td>NaN</td>\n",
       "      <td>360.0</td>\n",
       "      <td>1.0</td>\n",
       "      <td>Urban</td>\n",
       "      <td>Y</td>\n",
       "    </tr>\n",
       "    <tr>\n",
       "      <th>1</th>\n",
       "      <td>LP001003</td>\n",
       "      <td>Male</td>\n",
       "      <td>Yes</td>\n",
       "      <td>1</td>\n",
       "      <td>Graduate</td>\n",
       "      <td>No</td>\n",
       "      <td>4583</td>\n",
       "      <td>1508.0</td>\n",
       "      <td>128.0</td>\n",
       "      <td>360.0</td>\n",
       "      <td>1.0</td>\n",
       "      <td>Rural</td>\n",
       "      <td>N</td>\n",
       "    </tr>\n",
       "    <tr>\n",
       "      <th>2</th>\n",
       "      <td>LP001005</td>\n",
       "      <td>Male</td>\n",
       "      <td>Yes</td>\n",
       "      <td>0</td>\n",
       "      <td>Graduate</td>\n",
       "      <td>Yes</td>\n",
       "      <td>3000</td>\n",
       "      <td>0.0</td>\n",
       "      <td>66.0</td>\n",
       "      <td>360.0</td>\n",
       "      <td>1.0</td>\n",
       "      <td>Urban</td>\n",
       "      <td>Y</td>\n",
       "    </tr>\n",
       "    <tr>\n",
       "      <th>3</th>\n",
       "      <td>LP001006</td>\n",
       "      <td>Male</td>\n",
       "      <td>Yes</td>\n",
       "      <td>0</td>\n",
       "      <td>Not Graduate</td>\n",
       "      <td>No</td>\n",
       "      <td>2583</td>\n",
       "      <td>2358.0</td>\n",
       "      <td>120.0</td>\n",
       "      <td>360.0</td>\n",
       "      <td>1.0</td>\n",
       "      <td>Urban</td>\n",
       "      <td>Y</td>\n",
       "    </tr>\n",
       "    <tr>\n",
       "      <th>4</th>\n",
       "      <td>LP001008</td>\n",
       "      <td>Male</td>\n",
       "      <td>No</td>\n",
       "      <td>0</td>\n",
       "      <td>Graduate</td>\n",
       "      <td>No</td>\n",
       "      <td>6000</td>\n",
       "      <td>0.0</td>\n",
       "      <td>141.0</td>\n",
       "      <td>360.0</td>\n",
       "      <td>1.0</td>\n",
       "      <td>Urban</td>\n",
       "      <td>Y</td>\n",
       "    </tr>\n",
       "  </tbody>\n",
       "</table>\n",
       "</div>"
      ],
      "text/plain": [
       "    Loan_ID Gender Married Dependents     Education Self_Employed  \\\n",
       "0  LP001002   Male      No          0      Graduate            No   \n",
       "1  LP001003   Male     Yes          1      Graduate            No   \n",
       "2  LP001005   Male     Yes          0      Graduate           Yes   \n",
       "3  LP001006   Male     Yes          0  Not Graduate            No   \n",
       "4  LP001008   Male      No          0      Graduate            No   \n",
       "\n",
       "   ApplicantIncome  CoapplicantIncome  LoanAmount  Loan_Amount_Term  \\\n",
       "0             5849                0.0         NaN             360.0   \n",
       "1             4583             1508.0       128.0             360.0   \n",
       "2             3000                0.0        66.0             360.0   \n",
       "3             2583             2358.0       120.0             360.0   \n",
       "4             6000                0.0       141.0             360.0   \n",
       "\n",
       "   Credit_History Property_Area Loan_Status  \n",
       "0             1.0         Urban           Y  \n",
       "1             1.0         Rural           N  \n",
       "2             1.0         Urban           Y  \n",
       "3             1.0         Urban           Y  \n",
       "4             1.0         Urban           Y  "
      ]
     },
     "execution_count": 2,
     "metadata": {},
     "output_type": "execute_result"
    }
   ],
   "source": [
    "loans = pd.read_csv(\"loans.csv\")\n",
    "loans.head()"
   ]
  },
  {
   "cell_type": "code",
   "execution_count": 3,
   "metadata": {},
   "outputs": [],
   "source": [
    "train, test = ms.train_test_split(loans)"
   ]
  },
  {
   "cell_type": "code",
   "execution_count": 4,
   "metadata": {},
   "outputs": [],
   "source": [
    "target = 'Loan_Status'"
   ]
  },
  {
   "cell_type": "code",
   "execution_count": 5,
   "metadata": {},
   "outputs": [],
   "source": [
    "x_train, y_train = prep.split_y(train, target)\n",
    "x_test, y_test = prep.split_y(test, target)"
   ]
  },
  {
   "cell_type": "markdown",
   "metadata": {},
   "source": [
    "One of the key challenges in any data set are missing values. Lets start by checking which columns contain missing values."
   ]
  },
  {
   "cell_type": "code",
   "execution_count": 6,
   "metadata": {},
   "outputs": [
    {
     "data": {
      "text/plain": [
       "((460, 13), (154, 13))"
      ]
     },
     "execution_count": 6,
     "metadata": {},
     "output_type": "execute_result"
    }
   ],
   "source": [
    "train.shape, test.shape"
   ]
  },
  {
   "cell_type": "code",
   "execution_count": 7,
   "metadata": {
    "collapsed": false,
    "jupyter": {
     "outputs_hidden": false
    }
   },
   "outputs": [
    {
     "data": {
      "text/plain": [
       "Loan_ID               0\n",
       "Gender                9\n",
       "Married               1\n",
       "Dependents           10\n",
       "Education             0\n",
       "Self_Employed        26\n",
       "ApplicantIncome       0\n",
       "CoapplicantIncome     0\n",
       "LoanAmount           14\n",
       "Loan_Amount_Term     10\n",
       "Credit_History       34\n",
       "Property_Area         0\n",
       "Loan_Status           0\n",
       "dtype: int64"
      ]
     },
     "execution_count": 7,
     "metadata": {},
     "output_type": "execute_result"
    }
   ],
   "source": [
    "train.isna().sum()"
   ]
  },
  {
   "cell_type": "markdown",
   "metadata": {},
   "source": [
    "Look at some basic statistics for numerical variables."
   ]
  },
  {
   "cell_type": "code",
   "execution_count": 8,
   "metadata": {
    "collapsed": false,
    "jupyter": {
     "outputs_hidden": false
    }
   },
   "outputs": [
    {
     "data": {
      "text/html": [
       "<div>\n",
       "<style scoped>\n",
       "    .dataframe tbody tr th:only-of-type {\n",
       "        vertical-align: middle;\n",
       "    }\n",
       "\n",
       "    .dataframe tbody tr th {\n",
       "        vertical-align: top;\n",
       "    }\n",
       "\n",
       "    .dataframe thead th {\n",
       "        text-align: right;\n",
       "    }\n",
       "</style>\n",
       "<table border=\"1\" class=\"dataframe\">\n",
       "  <thead>\n",
       "    <tr style=\"text-align: right;\">\n",
       "      <th></th>\n",
       "      <th>ApplicantIncome</th>\n",
       "      <th>CoapplicantIncome</th>\n",
       "      <th>LoanAmount</th>\n",
       "      <th>Loan_Amount_Term</th>\n",
       "      <th>Credit_History</th>\n",
       "    </tr>\n",
       "  </thead>\n",
       "  <tbody>\n",
       "    <tr>\n",
       "      <th>count</th>\n",
       "      <td>460.000000</td>\n",
       "      <td>460.000000</td>\n",
       "      <td>446.000000</td>\n",
       "      <td>450.000000</td>\n",
       "      <td>426.000000</td>\n",
       "    </tr>\n",
       "    <tr>\n",
       "      <th>mean</th>\n",
       "      <td>5344.621739</td>\n",
       "      <td>1552.271565</td>\n",
       "      <td>143.928251</td>\n",
       "      <td>341.733333</td>\n",
       "      <td>0.842723</td>\n",
       "    </tr>\n",
       "    <tr>\n",
       "      <th>std</th>\n",
       "      <td>5720.364455</td>\n",
       "      <td>2831.896987</td>\n",
       "      <td>86.296220</td>\n",
       "      <td>65.099821</td>\n",
       "      <td>0.364490</td>\n",
       "    </tr>\n",
       "    <tr>\n",
       "      <th>min</th>\n",
       "      <td>150.000000</td>\n",
       "      <td>0.000000</td>\n",
       "      <td>17.000000</td>\n",
       "      <td>12.000000</td>\n",
       "      <td>0.000000</td>\n",
       "    </tr>\n",
       "    <tr>\n",
       "      <th>25%</th>\n",
       "      <td>2875.750000</td>\n",
       "      <td>0.000000</td>\n",
       "      <td>100.000000</td>\n",
       "      <td>360.000000</td>\n",
       "      <td>1.000000</td>\n",
       "    </tr>\n",
       "    <tr>\n",
       "      <th>50%</th>\n",
       "      <td>3716.500000</td>\n",
       "      <td>1020.000000</td>\n",
       "      <td>125.000000</td>\n",
       "      <td>360.000000</td>\n",
       "      <td>1.000000</td>\n",
       "    </tr>\n",
       "    <tr>\n",
       "      <th>75%</th>\n",
       "      <td>5746.000000</td>\n",
       "      <td>2250.000000</td>\n",
       "      <td>161.000000</td>\n",
       "      <td>360.000000</td>\n",
       "      <td>1.000000</td>\n",
       "    </tr>\n",
       "    <tr>\n",
       "      <th>max</th>\n",
       "      <td>63337.000000</td>\n",
       "      <td>41667.000000</td>\n",
       "      <td>700.000000</td>\n",
       "      <td>480.000000</td>\n",
       "      <td>1.000000</td>\n",
       "    </tr>\n",
       "  </tbody>\n",
       "</table>\n",
       "</div>"
      ],
      "text/plain": [
       "       ApplicantIncome  CoapplicantIncome  LoanAmount  Loan_Amount_Term  \\\n",
       "count       460.000000         460.000000  446.000000        450.000000   \n",
       "mean       5344.621739        1552.271565  143.928251        341.733333   \n",
       "std        5720.364455        2831.896987   86.296220         65.099821   \n",
       "min         150.000000           0.000000   17.000000         12.000000   \n",
       "25%        2875.750000           0.000000  100.000000        360.000000   \n",
       "50%        3716.500000        1020.000000  125.000000        360.000000   \n",
       "75%        5746.000000        2250.000000  161.000000        360.000000   \n",
       "max       63337.000000       41667.000000  700.000000        480.000000   \n",
       "\n",
       "       Credit_History  \n",
       "count      426.000000  \n",
       "mean         0.842723  \n",
       "std          0.364490  \n",
       "min          0.000000  \n",
       "25%          1.000000  \n",
       "50%          1.000000  \n",
       "75%          1.000000  \n",
       "max          1.000000  "
      ]
     },
     "execution_count": 8,
     "metadata": {},
     "output_type": "execute_result"
    }
   ],
   "source": [
    "train.describe()"
   ]
  },
  {
   "cell_type": "markdown",
   "metadata": {},
   "source": [
    "1. How many applicants have a `Credit_History`? (`Credit_History` has value 1 for those who have a credit history and 0 otherwise)\n",
    "2. Is the `ApplicantIncome` distribution in line with your expectation? Similarly, what about `CoapplicantIncome`?\n",
    "3. Tip: Can you see a possible skewness in the data by comparing the mean to the median, i.e. the 50% figure of a feature.\n",
    "\n"
   ]
  },
  {
   "cell_type": "code",
   "execution_count": 9,
   "metadata": {},
   "outputs": [
    {
     "data": {
      "text/plain": [
       "1.0    359\n",
       "0.0     67\n",
       "Name: Credit_History, dtype: int64"
      ]
     },
     "execution_count": 9,
     "metadata": {},
     "output_type": "execute_result"
    }
   ],
   "source": [
    "train.Credit_History.value_counts()"
   ]
  },
  {
   "cell_type": "code",
   "execution_count": 10,
   "metadata": {},
   "outputs": [
    {
     "data": {
      "image/png": "[encoded data removed]",
      "text/plain": [
       "<Figure size 432x288 with 1 Axes>"
      ]
     },
     "metadata": {
      "needs_background": "light"
     },
     "output_type": "display_data"
    }
   ],
   "source": [
    "plots.distplot(train, 'ApplicantIncome')"
   ]
  },
  {
   "cell_type": "code",
   "execution_count": 11,
   "metadata": {},
   "outputs": [
    {
     "data": {
      "image/png": "[encoded data removed]",
      "text/plain": [
       "<Figure size 432x288 with 1 Axes>"
      ]
     },
     "metadata": {
      "needs_background": "light"
     },
     "output_type": "display_data"
    }
   ],
   "source": [
    "plots.distplot(train, 'CoapplicantIncome')"
   ]
  },
  {
   "cell_type": "code",
   "execution_count": 110,
   "metadata": {},
   "outputs": [
    {
     "data": {
      "image/png": "[encoded data removed]",
      "text/plain": [
       "<Figure size 432x288 with 1 Axes>"
      ]
     },
     "metadata": {
      "needs_background": "light"
     },
     "output_type": "display_data"
    }
   ],
   "source": [
    "total_income = (train.ApplicantIncome + train.CoapplicantIncome).to_frame('TotalIncome')\n",
    "plots.distplot(total_income, 'TotalIncome')\n",
    "plt.xlabel('Total Income')\n",
    "plt.savefig('income-raw.png', dpi=200)"
   ]
  },
  {
   "cell_type": "code",
   "execution_count": 13,
   "metadata": {},
   "outputs": [
    {
     "data": {
      "text/plain": [
       "(5344.621739130434, 3716.5)"
      ]
     },
     "execution_count": 13,
     "metadata": {},
     "output_type": "execute_result"
    }
   ],
   "source": [
    "train.ApplicantIncome.mean(), train.ApplicantIncome.median()"
   ]
  },
  {
   "cell_type": "markdown",
   "metadata": {},
   "source": [
    "Let's discuss nominal (categorical) variable. Look at the number of unique values in each of them."
   ]
  },
  {
   "cell_type": "code",
   "execution_count": 14,
   "metadata": {
    "collapsed": false,
    "jupyter": {
     "outputs_hidden": false
    }
   },
   "outputs": [
    {
     "data": {
      "text/plain": [
       "Male      371\n",
       "Female     80\n",
       "Name: Gender, dtype: int64"
      ]
     },
     "execution_count": 14,
     "metadata": {},
     "output_type": "execute_result"
    }
   ],
   "source": [
    "train.Gender.value_counts()"
   ]
  },
  {
   "cell_type": "code",
   "execution_count": 15,
   "metadata": {},
   "outputs": [
    {
     "data": {
      "text/plain": [
       "Yes    291\n",
       "No     168\n",
       "Name: Married, dtype: int64"
      ]
     },
     "execution_count": 15,
     "metadata": {},
     "output_type": "execute_result"
    }
   ],
   "source": [
    "train.Married.value_counts()"
   ]
  },
  {
   "cell_type": "code",
   "execution_count": 16,
   "metadata": {},
   "outputs": [
    {
     "data": {
      "text/plain": [
       "Graduate        364\n",
       "Not Graduate     96\n",
       "Name: Education, dtype: int64"
      ]
     },
     "execution_count": 16,
     "metadata": {},
     "output_type": "execute_result"
    }
   ],
   "source": [
    "train.Education.value_counts()"
   ]
  },
  {
   "cell_type": "code",
   "execution_count": 17,
   "metadata": {},
   "outputs": [
    {
     "data": {
      "text/plain": [
       "No     375\n",
       "Yes     59\n",
       "Name: Self_Employed, dtype: int64"
      ]
     },
     "execution_count": 17,
     "metadata": {},
     "output_type": "execute_result"
    }
   ],
   "source": [
    "train.Self_Employed.value_counts()"
   ]
  },
  {
   "cell_type": "code",
   "execution_count": 18,
   "metadata": {},
   "outputs": [
    {
     "data": {
      "text/plain": [
       "Semiurban    175\n",
       "Urban        154\n",
       "Rural        131\n",
       "Name: Property_Area, dtype: int64"
      ]
     },
     "execution_count": 18,
     "metadata": {},
     "output_type": "execute_result"
    }
   ],
   "source": [
    "train.Property_Area.value_counts()"
   ]
  },
  {
   "cell_type": "markdown",
   "metadata": {},
   "source": [
    "Explore further using the frequency of different categories in each nominal variable. Exclude the ID obvious reasons."
   ]
  },
  {
   "cell_type": "markdown",
   "metadata": {},
   "source": [
    "Should I make property area categorical or ordinal?"
   ]
  },
  {
   "cell_type": "code",
   "execution_count": 105,
   "metadata": {},
   "outputs": [
    {
     "data": {
      "image/png": "[encoded data removed]",
      "text/plain": [
       "<Figure size 432x288 with 2 Axes>"
      ]
     },
     "metadata": {
      "needs_background": "light"
     },
     "output_type": "display_data"
    }
   ],
   "source": [
    "sns.heatmap(\n",
    "    pd.crosstab(train.Property_Area, train.Loan_Status),\n",
    "    cmap='YlGnBu', annot=True, fmt='d'\n",
    ")\n",
    "plt.xlabel('Loan Approved')\n",
    "plt.xticks([0.5, 1.5], ['No', 'Yes'])\n",
    "plt.ylabel('Property Area')\n",
    "plt.savefig('property-area.png', dpi=200)\n",
    "plt.show()"
   ]
  },
  {
   "cell_type": "markdown",
   "metadata": {
    "jupyter": {
     "outputs_hidden": false
    }
   },
   "source": [
    "This suggests categorical, since it's the semiurban areas that favour loans the most. This may be a consequence of other variables, like wealth, but I don't want to miss potential effects here."
   ]
  },
  {
   "cell_type": "markdown",
   "metadata": {},
   "source": [
    "What about dependents?"
   ]
  },
  {
   "cell_type": "code",
   "execution_count": 75,
   "metadata": {},
   "outputs": [
    {
     "data": {
      "image/png": "[encoded data removed]",
      "text/plain": [
       "<Figure size 432x288 with 2 Axes>"
      ]
     },
     "metadata": {
      "needs_background": "light"
     },
     "output_type": "display_data"
    }
   ],
   "source": [
    "sns.heatmap(\n",
    "    pd.crosstab(train.Dependents, train.Loan_Status),\n",
    "    cmap='YlGnBu', annot=True, fmt='d'\n",
    ")\n",
    "plt.show()"
   ]
  },
  {
   "cell_type": "markdown",
   "metadata": {},
   "source": [
    "Not much going on here. Seems pretty reasonable to just turn 3+ into 3 and make it ordinal."
   ]
  },
  {
   "cell_type": "markdown",
   "metadata": {},
   "source": [
    "### Distribution analysis\n",
    "\n",
    "Study distribution of various variables. Plot the histogram of ApplicantIncome, try different number of bins.\n",
    "\n"
   ]
  },
  {
   "cell_type": "markdown",
   "metadata": {},
   "source": [
    "Look at box plots to understand the distributions. Look at the distribution of income segregated  by `Education`"
   ]
  },
  {
   "cell_type": "code",
   "execution_count": 21,
   "metadata": {},
   "outputs": [
    {
     "data": {
      "image/png": "[encoded data removed]",
      "text/plain": [
       "<Figure size 432x288 with 1 Axes>"
      ]
     },
     "metadata": {
      "needs_background": "light"
     },
     "output_type": "display_data"
    }
   ],
   "source": [
    "sns.boxplot(data=train, x='Education', y='ApplicantIncome')\n",
    "plt.ylim(0, 20000)\n",
    "plt.show()"
   ]
  },
  {
   "cell_type": "code",
   "execution_count": 22,
   "metadata": {
    "collapsed": false,
    "jupyter": {
     "outputs_hidden": false
    }
   },
   "outputs": [
    {
     "data": {
      "image/png": "[encoded data removed]",
      "text/plain": [
       "<Figure size 432x288 with 1 Axes>"
      ]
     },
     "metadata": {
      "needs_background": "light"
     },
     "output_type": "display_data"
    }
   ],
   "source": [
    "sns.boxplot(data=train, x='Gender', y='ApplicantIncome')\n",
    "plt.ylim(0, 20000)\n",
    "plt.show()"
   ]
  },
  {
   "cell_type": "code",
   "execution_count": 23,
   "metadata": {},
   "outputs": [
    {
     "data": {
      "image/png": "[encoded data removed]",
      "text/plain": [
       "<Figure size 432x288 with 1 Axes>"
      ]
     },
     "metadata": {
      "needs_background": "light"
     },
     "output_type": "display_data"
    }
   ],
   "source": [
    "sns.boxplot(data=train, x='Married', y='ApplicantIncome')\n",
    "plt.ylim(0, 20000)\n",
    "plt.show()"
   ]
  },
  {
   "cell_type": "code",
   "execution_count": 24,
   "metadata": {},
   "outputs": [
    {
     "data": {
      "image/png": "[encoded data removed]",
      "text/plain": [
       "<Figure size 432x288 with 1 Axes>"
      ]
     },
     "metadata": {
      "needs_background": "light"
     },
     "output_type": "display_data"
    }
   ],
   "source": [
    "sns.boxplot(data=train, x='Married', y='CoapplicantIncome')\n",
    "plt.ylim(0, 10000)\n",
    "plt.show()"
   ]
  },
  {
   "cell_type": "code",
   "execution_count": 25,
   "metadata": {},
   "outputs": [
    {
     "data": {
      "image/png": "[encoded data removed]",
      "text/plain": [
       "<Figure size 432x288 with 1 Axes>"
      ]
     },
     "metadata": {
      "needs_background": "light"
     },
     "output_type": "display_data"
    }
   ],
   "source": [
    "sns.boxplot(data=train, x='Self_Employed', y='ApplicantIncome')\n",
    "plt.ylim(0, 20000)\n",
    "plt.show()"
   ]
  },
  {
   "cell_type": "markdown",
   "metadata": {},
   "source": [
    "Look at the histogram and boxplot of LoanAmount"
   ]
  },
  {
   "cell_type": "code",
   "execution_count": 108,
   "metadata": {
    "collapsed": false,
    "jupyter": {
     "outputs_hidden": false
    }
   },
   "outputs": [
    {
     "data": {
      "image/png": "[encoded data removed]",
      "text/plain": [
       "<Figure size 432x288 with 1 Axes>"
      ]
     },
     "metadata": {
      "needs_background": "light"
     },
     "output_type": "display_data"
    }
   ],
   "source": [
    "plots.distplot(train, 'LoanAmount')\n",
    "plt.xlabel('Loan Amount')\n",
    "plt.savefig('amount-raw.png', dpi=200)"
   ]
  },
  {
   "cell_type": "code",
   "execution_count": 27,
   "metadata": {},
   "outputs": [
    {
     "data": {
      "image/png": "[encoded data removed]",
      "text/plain": [
       "<Figure size 432x288 with 1 Axes>"
      ]
     },
     "metadata": {
      "needs_background": "light"
     },
     "output_type": "display_data"
    }
   ],
   "source": [
    "plots.distplot(train, 'Loan_Amount_Term')"
   ]
  },
  {
   "cell_type": "code",
   "execution_count": 28,
   "metadata": {},
   "outputs": [
    {
     "data": {
      "text/plain": [
       "12.0       1\n",
       "36.0       1\n",
       "60.0       1\n",
       "84.0       3\n",
       "120.0      3\n",
       "180.0     34\n",
       "240.0      3\n",
       "300.0      9\n",
       "360.0    384\n",
       "480.0     11\n",
       "Name: Loan_Amount_Term, dtype: int64"
      ]
     },
     "execution_count": 28,
     "metadata": {},
     "output_type": "execute_result"
    }
   ],
   "source": [
    "train.Loan_Amount_Term.value_counts().sort_index()"
   ]
  },
  {
   "cell_type": "code",
   "execution_count": 29,
   "metadata": {},
   "outputs": [
    {
     "data": {
      "text/plain": [
       "Y    7\n",
       "N    2\n",
       "Name: Loan_Status, dtype: int64"
      ]
     },
     "execution_count": 29,
     "metadata": {},
     "output_type": "execute_result"
    }
   ],
   "source": [
    "train[train.Loan_Amount_Term <= 120].Loan_Status.value_counts()"
   ]
  },
  {
   "cell_type": "code",
   "execution_count": 30,
   "metadata": {
    "collapsed": false,
    "jupyter": {
     "outputs_hidden": false
    }
   },
   "outputs": [
    {
     "data": {
      "image/png": "[encoded data removed]",
      "text/plain": [
       "<Figure size 432x288 with 1 Axes>"
      ]
     },
     "metadata": {
      "needs_background": "light"
     },
     "output_type": "display_data"
    }
   ],
   "source": [
    "sns.scatterplot(\n",
    "    x=total_income.TotalIncome, y=train.LoanAmount, hue=train.Loan_Status, alpha=0.5\n",
    ")\n",
    "plt.xlim(0, 30000)\n",
    "plt.ylim(0, 500)\n",
    "plt.show()"
   ]
  },
  {
   "cell_type": "markdown",
   "metadata": {},
   "source": [
    "There might be some extreme values. Both `ApplicantIncome` and `LoanAmount` require some amount of data munging. `LoanAmount` has missing and well as extreme values values, while `ApplicantIncome` has a few extreme values, which demand deeper understanding. "
   ]
  },
  {
   "cell_type": "markdown",
   "metadata": {},
   "source": [
    "### Categorical variable analysis\n",
    "\n",
    "Try to understand categorical variables in more details using `pandas.DataFrame.pivot_table` and some visualizations."
   ]
  },
  {
   "cell_type": "code",
   "execution_count": 31,
   "metadata": {
    "collapsed": false,
    "jupyter": {
     "outputs_hidden": false
    }
   },
   "outputs": [
    {
     "data": {
      "text/html": [
       "<div>\n",
       "<style scoped>\n",
       "    .dataframe tbody tr th:only-of-type {\n",
       "        vertical-align: middle;\n",
       "    }\n",
       "\n",
       "    .dataframe tbody tr th {\n",
       "        vertical-align: top;\n",
       "    }\n",
       "\n",
       "    .dataframe thead tr th {\n",
       "        text-align: left;\n",
       "    }\n",
       "\n",
       "    .dataframe thead tr:last-of-type th {\n",
       "        text-align: right;\n",
       "    }\n",
       "</style>\n",
       "<table border=\"1\" class=\"dataframe\">\n",
       "  <thead>\n",
       "    <tr>\n",
       "      <th></th>\n",
       "      <th></th>\n",
       "      <th></th>\n",
       "      <th>mean</th>\n",
       "      <th>count</th>\n",
       "    </tr>\n",
       "    <tr>\n",
       "      <th></th>\n",
       "      <th></th>\n",
       "      <th></th>\n",
       "      <th>ApplicantIncome</th>\n",
       "      <th>ApplicantIncome</th>\n",
       "    </tr>\n",
       "    <tr>\n",
       "      <th>Gender</th>\n",
       "      <th>Married</th>\n",
       "      <th>Dependents</th>\n",
       "      <th></th>\n",
       "      <th></th>\n",
       "    </tr>\n",
       "  </thead>\n",
       "  <tbody>\n",
       "    <tr>\n",
       "      <th rowspan=\"7\" valign=\"top\">Female</th>\n",
       "      <th rowspan=\"4\" valign=\"top\">No</th>\n",
       "      <th>0</th>\n",
       "      <td>5066.024390</td>\n",
       "      <td>41</td>\n",
       "    </tr>\n",
       "    <tr>\n",
       "      <th>1</th>\n",
       "      <td>5033.000000</td>\n",
       "      <td>10</td>\n",
       "    </tr>\n",
       "    <tr>\n",
       "      <th>2</th>\n",
       "      <td>3588.500000</td>\n",
       "      <td>2</td>\n",
       "    </tr>\n",
       "    <tr>\n",
       "      <th>3+</th>\n",
       "      <td>1776.333333</td>\n",
       "      <td>3</td>\n",
       "    </tr>\n",
       "    <tr>\n",
       "      <th rowspan=\"3\" valign=\"top\">Yes</th>\n",
       "      <th>0</th>\n",
       "      <td>3544.062500</td>\n",
       "      <td>16</td>\n",
       "    </tr>\n",
       "    <tr>\n",
       "      <th>1</th>\n",
       "      <td>8333.000000</td>\n",
       "      <td>2</td>\n",
       "    </tr>\n",
       "    <tr>\n",
       "      <th>2</th>\n",
       "      <td>5639.500000</td>\n",
       "      <td>4</td>\n",
       "    </tr>\n",
       "    <tr>\n",
       "      <th rowspan=\"8\" valign=\"top\">Male</th>\n",
       "      <th rowspan=\"4\" valign=\"top\">No</th>\n",
       "      <th>0</th>\n",
       "      <td>4904.910112</td>\n",
       "      <td>89</td>\n",
       "    </tr>\n",
       "    <tr>\n",
       "      <th>1</th>\n",
       "      <td>7787.100000</td>\n",
       "      <td>10</td>\n",
       "    </tr>\n",
       "    <tr>\n",
       "      <th>2</th>\n",
       "      <td>4127.600000</td>\n",
       "      <td>5</td>\n",
       "    </tr>\n",
       "    <tr>\n",
       "      <th>3+</th>\n",
       "      <td>6937.000000</td>\n",
       "      <td>2</td>\n",
       "    </tr>\n",
       "    <tr>\n",
       "      <th rowspan=\"4\" valign=\"top\">Yes</th>\n",
       "      <th>0</th>\n",
       "      <td>5311.963303</td>\n",
       "      <td>109</td>\n",
       "    </tr>\n",
       "    <tr>\n",
       "      <th>1</th>\n",
       "      <td>5719.056604</td>\n",
       "      <td>53</td>\n",
       "    </tr>\n",
       "    <tr>\n",
       "      <th>2</th>\n",
       "      <td>5144.939394</td>\n",
       "      <td>66</td>\n",
       "    </tr>\n",
       "    <tr>\n",
       "      <th>3+</th>\n",
       "      <td>6066.068966</td>\n",
       "      <td>29</td>\n",
       "    </tr>\n",
       "  </tbody>\n",
       "</table>\n",
       "</div>"
      ],
      "text/plain": [
       "                                     mean           count\n",
       "                          ApplicantIncome ApplicantIncome\n",
       "Gender Married Dependents                                \n",
       "Female No      0              5066.024390              41\n",
       "               1              5033.000000              10\n",
       "               2              3588.500000               2\n",
       "               3+             1776.333333               3\n",
       "       Yes     0              3544.062500              16\n",
       "               1              8333.000000               2\n",
       "               2              5639.500000               4\n",
       "Male   No      0              4904.910112              89\n",
       "               1              7787.100000              10\n",
       "               2              4127.600000               5\n",
       "               3+             6937.000000               2\n",
       "       Yes     0              5311.963303             109\n",
       "               1              5719.056604              53\n",
       "               2              5144.939394              66\n",
       "               3+             6066.068966              29"
      ]
     },
     "execution_count": 31,
     "metadata": {},
     "output_type": "execute_result"
    }
   ],
   "source": [
    "train.pivot_table(\n",
    "    values='ApplicantIncome', index=['Gender', 'Married', 'Dependents'],\n",
    "    aggfunc=['mean', 'count']\n",
    ")"
   ]
  },
  {
   "cell_type": "markdown",
   "metadata": {},
   "source": [
    "## 3. Data Cleaning\n",
    "\n",
    "This step typically involves imputing missing values and treating outliers. "
   ]
  },
  {
   "cell_type": "markdown",
   "metadata": {},
   "source": [
    "### Imputing Missing Values\n",
    "\n",
    "Missing values may not always be NaNs. For instance, the `Loan_Amount_Term` might be 0, which does not make sense.\n",
    "\n"
   ]
  },
  {
   "cell_type": "markdown",
   "metadata": {},
   "source": [
    "Impute missing values for all columns. Use the values which you find most meaningful (mean, mode, median, zero.... maybe different mean values for different groups)"
   ]
  },
  {
   "cell_type": "code",
   "execution_count": 32,
   "metadata": {},
   "outputs": [],
   "source": [
    "imputations = [\n",
    "    (\n",
    "        'categorical', impute.SimpleImputer(strategy='most_frequent'),\n",
    "        ['Gender', 'Married', 'Dependents', 'Self_Employed', 'Loan_Amount_Term']\n",
    "    ),\n",
    "    (\n",
    "        'credit', impute.SimpleImputer(strategy='constant', fill_value=0),\n",
    "        ['Credit_History']\n",
    "    )\n",
    "]"
   ]
  },
  {
   "cell_type": "code",
   "execution_count": 33,
   "metadata": {
    "collapsed": false,
    "jupyter": {
     "outputs_hidden": false
    }
   },
   "outputs": [],
   "source": [
    "partial_imputer = compose.ColumnTransformer(\n",
    "    imputations, remainder='passthrough'\n",
    ")"
   ]
  },
  {
   "cell_type": "code",
   "execution_count": 34,
   "metadata": {},
   "outputs": [],
   "source": [
    "train_imputed = partial_imputer.fit_transform(train)"
   ]
  },
  {
   "cell_type": "code",
   "execution_count": 35,
   "metadata": {},
   "outputs": [
    {
     "data": {
      "text/plain": [
       "0      0\n",
       "1      0\n",
       "2      0\n",
       "3      0\n",
       "4      0\n",
       "5      0\n",
       "6      0\n",
       "7      0\n",
       "8      0\n",
       "9      0\n",
       "10    14\n",
       "11     0\n",
       "12     0\n",
       "dtype: int64"
      ]
     },
     "execution_count": 35,
     "metadata": {},
     "output_type": "execute_result"
    }
   ],
   "source": [
    "pd.DataFrame(train_imputed).isna().sum()"
   ]
  },
  {
   "cell_type": "code",
   "execution_count": null,
   "metadata": {},
   "outputs": [],
   "source": []
  },
  {
   "cell_type": "markdown",
   "metadata": {},
   "source": [
    "### Extreme values\n",
    "Try a log transformation to get rid of the extreme values in `LoanAmount`. Plot the histogram before and after the transformation"
   ]
  },
  {
   "cell_type": "code",
   "execution_count": 36,
   "metadata": {
    "collapsed": false,
    "jupyter": {
     "outputs_hidden": false
    }
   },
   "outputs": [],
   "source": [
    "loan_boxcox = pre.PowerTransformer(method='box-cox')"
   ]
  },
  {
   "cell_type": "code",
   "execution_count": 37,
   "metadata": {},
   "outputs": [],
   "source": [
    "train_loan_boxcox = pd.DataFrame(\n",
    "    loan_boxcox.fit_transform(train[['LoanAmount']]),\n",
    "    columns=['LoanAmountTransformed']\n",
    ")"
   ]
  },
  {
   "cell_type": "code",
   "execution_count": 109,
   "metadata": {},
   "outputs": [
    {
     "data": {
      "image/png": "[encoded data removed]",
      "text/plain": [
       "<Figure size 432x288 with 1 Axes>"
      ]
     },
     "metadata": {
      "needs_background": "light"
     },
     "output_type": "display_data"
    }
   ],
   "source": [
    "plots.distplot(train_loan_boxcox, 'LoanAmountTransformed')\n",
    "plt.xlabel('Loan Amount (Box-Cox)')\n",
    "plt.savefig('amount-transformed.png', dpi=200)"
   ]
  },
  {
   "cell_type": "markdown",
   "metadata": {},
   "source": [
    "Combine both incomes as total income and take a log transformation of the same."
   ]
  },
  {
   "cell_type": "code",
   "execution_count": 39,
   "metadata": {},
   "outputs": [],
   "source": [
    "total_income_maker = pre.FunctionTransformer(components.combine_income)"
   ]
  },
  {
   "cell_type": "code",
   "execution_count": 40,
   "metadata": {},
   "outputs": [],
   "source": [
    "total_income_boxcox = pre.PowerTransformer(method='box-cox')"
   ]
  },
  {
   "cell_type": "code",
   "execution_count": 41,
   "metadata": {},
   "outputs": [],
   "source": [
    "total_income_pipeline = pl.Pipeline([\n",
    "    ('maker', total_income_maker),\n",
    "    ('boxcox', total_income_boxcox),\n",
    "])"
   ]
  },
  {
   "cell_type": "code",
   "execution_count": 42,
   "metadata": {},
   "outputs": [],
   "source": [
    "train_total_income_boxcox = pd.DataFrame(\n",
    "    total_income_pipeline.fit_transform(\n",
    "        train[['ApplicantIncome', 'CoapplicantIncome']]\n",
    "    ),\n",
    "    columns=['TotalIncomeTransformed']\n",
    ")"
   ]
  },
  {
   "cell_type": "code",
   "execution_count": 111,
   "metadata": {},
   "outputs": [
    {
     "data": {
      "image/png": "[encoded data removed]",
      "text/plain": [
       "<Figure size 432x288 with 1 Axes>"
      ]
     },
     "metadata": {
      "needs_background": "light"
     },
     "output_type": "display_data"
    }
   ],
   "source": [
    "plots.distplot(train_total_income_boxcox, 'TotalIncomeTransformed')\n",
    "plt.xlabel('Total Income (Box-Cox)')\n",
    "plt.savefig('income-transformed.png', dpi=200)"
   ]
  },
  {
   "cell_type": "markdown",
   "metadata": {},
   "source": [
    "### Putting these together in the column transformer"
   ]
  },
  {
   "cell_type": "code",
   "execution_count": 44,
   "metadata": {},
   "outputs": [],
   "source": [
    "loan_clean = pl.Pipeline([\n",
    "    ('impute', impute.SimpleImputer()),\n",
    "    ('boxcox', loan_boxcox)\n",
    "])"
   ]
  },
  {
   "cell_type": "code",
   "execution_count": 45,
   "metadata": {},
   "outputs": [],
   "source": [
    "income_clean = pl.Pipeline([\n",
    "    ('impute', impute.SimpleImputer()),\n",
    "    ('columns', prep.ColumnAssigner(['ApplicantIncome', 'CoapplicantIncome'])),\n",
    "    ('total', total_income_maker),\n",
    "    ('boxcox', total_income_boxcox),\n",
    "])"
   ]
  },
  {
   "cell_type": "code",
   "execution_count": 46,
   "metadata": {},
   "outputs": [],
   "source": [
    "cleaner = compose.ColumnTransformer(imputations + [\n",
    "    ('amount', loan_clean, ['LoanAmount']),\n",
    "    ('income', income_clean, ['ApplicantIncome', 'CoapplicantIncome']),\n",
    "], remainder='passthrough')"
   ]
  },
  {
   "cell_type": "code",
   "execution_count": 47,
   "metadata": {},
   "outputs": [],
   "source": [
    "cleaner_columns = [\n",
    "    'Gender', 'Married', 'Dependents', 'SelfEmployed',\n",
    "    'LoanAmountTerm', 'CreditHistory',\n",
    "    'LoanAmountLog', 'TotalIncomeLog',\n",
    "    'LoanID', 'Education', 'PropertyArea',\n",
    "]"
   ]
  },
  {
   "cell_type": "code",
   "execution_count": 48,
   "metadata": {},
   "outputs": [],
   "source": [
    "cleaner_recolumn = prep.ColumnAssigner(cleaner_columns)"
   ]
  },
  {
   "cell_type": "code",
   "execution_count": 49,
   "metadata": {},
   "outputs": [],
   "source": [
    "x_cleaned = pd.DataFrame(cleaner.fit_transform(x_train), columns=cleaner_columns)"
   ]
  },
  {
   "cell_type": "code",
   "execution_count": 50,
   "metadata": {},
   "outputs": [
    {
     "data": {
      "text/html": [
       "<div>\n",
       "<style scoped>\n",
       "    .dataframe tbody tr th:only-of-type {\n",
       "        vertical-align: middle;\n",
       "    }\n",
       "\n",
       "    .dataframe tbody tr th {\n",
       "        vertical-align: top;\n",
       "    }\n",
       "\n",
       "    .dataframe thead th {\n",
       "        text-align: right;\n",
       "    }\n",
       "</style>\n",
       "<table border=\"1\" class=\"dataframe\">\n",
       "  <thead>\n",
       "    <tr style=\"text-align: right;\">\n",
       "      <th></th>\n",
       "      <th>Gender</th>\n",
       "      <th>Married</th>\n",
       "      <th>Dependents</th>\n",
       "      <th>SelfEmployed</th>\n",
       "      <th>LoanAmountTerm</th>\n",
       "      <th>CreditHistory</th>\n",
       "      <th>LoanAmountLog</th>\n",
       "      <th>TotalIncomeLog</th>\n",
       "      <th>LoanID</th>\n",
       "      <th>Education</th>\n",
       "      <th>PropertyArea</th>\n",
       "    </tr>\n",
       "  </thead>\n",
       "  <tbody>\n",
       "    <tr>\n",
       "      <th>0</th>\n",
       "      <td>Male</td>\n",
       "      <td>Yes</td>\n",
       "      <td>0</td>\n",
       "      <td>No</td>\n",
       "      <td>360</td>\n",
       "      <td>1</td>\n",
       "      <td>-0.483347</td>\n",
       "      <td>-0.942618</td>\n",
       "      <td>LP002361</td>\n",
       "      <td>Graduate</td>\n",
       "      <td>Urban</td>\n",
       "    </tr>\n",
       "    <tr>\n",
       "      <th>1</th>\n",
       "      <td>Male</td>\n",
       "      <td>Yes</td>\n",
       "      <td>0</td>\n",
       "      <td>No</td>\n",
       "      <td>360</td>\n",
       "      <td>1</td>\n",
       "      <td>-0.199629</td>\n",
       "      <td>0.255414</td>\n",
       "      <td>LP001041</td>\n",
       "      <td>Graduate</td>\n",
       "      <td>Urban</td>\n",
       "    </tr>\n",
       "    <tr>\n",
       "      <th>2</th>\n",
       "      <td>Female</td>\n",
       "      <td>No</td>\n",
       "      <td>0</td>\n",
       "      <td>Yes</td>\n",
       "      <td>360</td>\n",
       "      <td>1</td>\n",
       "      <td>-0.0303737</td>\n",
       "      <td>1.86582</td>\n",
       "      <td>LP002731</td>\n",
       "      <td>Not Graduate</td>\n",
       "      <td>Urban</td>\n",
       "    </tr>\n",
       "    <tr>\n",
       "      <th>3</th>\n",
       "      <td>Male</td>\n",
       "      <td>No</td>\n",
       "      <td>2</td>\n",
       "      <td>No</td>\n",
       "      <td>360</td>\n",
       "      <td>0</td>\n",
       "      <td>-0.936372</td>\n",
       "      <td>-0.936946</td>\n",
       "      <td>LP002545</td>\n",
       "      <td>Graduate</td>\n",
       "      <td>Rural</td>\n",
       "    </tr>\n",
       "    <tr>\n",
       "      <th>4</th>\n",
       "      <td>Male</td>\n",
       "      <td>No</td>\n",
       "      <td>0</td>\n",
       "      <td>No</td>\n",
       "      <td>360</td>\n",
       "      <td>0</td>\n",
       "      <td>1.31036</td>\n",
       "      <td>1.64278</td>\n",
       "      <td>LP001492</td>\n",
       "      <td>Graduate</td>\n",
       "      <td>Semiurban</td>\n",
       "    </tr>\n",
       "    <tr>\n",
       "      <th>...</th>\n",
       "      <td>...</td>\n",
       "      <td>...</td>\n",
       "      <td>...</td>\n",
       "      <td>...</td>\n",
       "      <td>...</td>\n",
       "      <td>...</td>\n",
       "      <td>...</td>\n",
       "      <td>...</td>\n",
       "      <td>...</td>\n",
       "      <td>...</td>\n",
       "      <td>...</td>\n",
       "    </tr>\n",
       "    <tr>\n",
       "      <th>455</th>\n",
       "      <td>Male</td>\n",
       "      <td>Yes</td>\n",
       "      <td>0</td>\n",
       "      <td>No</td>\n",
       "      <td>360</td>\n",
       "      <td>1</td>\n",
       "      <td>0.185109</td>\n",
       "      <td>0.0486478</td>\n",
       "      <td>LP001936</td>\n",
       "      <td>Graduate</td>\n",
       "      <td>Rural</td>\n",
       "    </tr>\n",
       "    <tr>\n",
       "      <th>456</th>\n",
       "      <td>Male</td>\n",
       "      <td>Yes</td>\n",
       "      <td>1</td>\n",
       "      <td>No</td>\n",
       "      <td>360</td>\n",
       "      <td>1</td>\n",
       "      <td>0.199659</td>\n",
       "      <td>-0.17307</td>\n",
       "      <td>LP001778</td>\n",
       "      <td>Graduate</td>\n",
       "      <td>Semiurban</td>\n",
       "    </tr>\n",
       "    <tr>\n",
       "      <th>457</th>\n",
       "      <td>Female</td>\n",
       "      <td>No</td>\n",
       "      <td>0</td>\n",
       "      <td>No</td>\n",
       "      <td>360</td>\n",
       "      <td>1</td>\n",
       "      <td>-0.113237</td>\n",
       "      <td>-0.419936</td>\n",
       "      <td>LP001692</td>\n",
       "      <td>Not Graduate</td>\n",
       "      <td>Semiurban</td>\n",
       "    </tr>\n",
       "    <tr>\n",
       "      <th>458</th>\n",
       "      <td>Male</td>\n",
       "      <td>Yes</td>\n",
       "      <td>0</td>\n",
       "      <td>No</td>\n",
       "      <td>180</td>\n",
       "      <td>1</td>\n",
       "      <td>-1.6606</td>\n",
       "      <td>0.350904</td>\n",
       "      <td>LP002928</td>\n",
       "      <td>Graduate</td>\n",
       "      <td>Semiurban</td>\n",
       "    </tr>\n",
       "    <tr>\n",
       "      <th>459</th>\n",
       "      <td>Female</td>\n",
       "      <td>No</td>\n",
       "      <td>0</td>\n",
       "      <td>No</td>\n",
       "      <td>360</td>\n",
       "      <td>1</td>\n",
       "      <td>-0.936372</td>\n",
       "      <td>-1.16621</td>\n",
       "      <td>LP001693</td>\n",
       "      <td>Graduate</td>\n",
       "      <td>Urban</td>\n",
       "    </tr>\n",
       "  </tbody>\n",
       "</table>\n",
       "<p>460 rows × 11 columns</p>\n",
       "</div>"
      ],
      "text/plain": [
       "     Gender Married Dependents SelfEmployed LoanAmountTerm CreditHistory  \\\n",
       "0      Male     Yes          0           No            360             1   \n",
       "1      Male     Yes          0           No            360             1   \n",
       "2    Female      No          0          Yes            360             1   \n",
       "3      Male      No          2           No            360             0   \n",
       "4      Male      No          0           No            360             0   \n",
       "..      ...     ...        ...          ...            ...           ...   \n",
       "455    Male     Yes          0           No            360             1   \n",
       "456    Male     Yes          1           No            360             1   \n",
       "457  Female      No          0           No            360             1   \n",
       "458    Male     Yes          0           No            180             1   \n",
       "459  Female      No          0           No            360             1   \n",
       "\n",
       "    LoanAmountLog TotalIncomeLog    LoanID     Education PropertyArea  \n",
       "0       -0.483347      -0.942618  LP002361      Graduate        Urban  \n",
       "1       -0.199629       0.255414  LP001041      Graduate        Urban  \n",
       "2      -0.0303737        1.86582  LP002731  Not Graduate        Urban  \n",
       "3       -0.936372      -0.936946  LP002545      Graduate        Rural  \n",
       "4         1.31036        1.64278  LP001492      Graduate    Semiurban  \n",
       "..            ...            ...       ...           ...          ...  \n",
       "455      0.185109      0.0486478  LP001936      Graduate        Rural  \n",
       "456      0.199659       -0.17307  LP001778      Graduate    Semiurban  \n",
       "457     -0.113237      -0.419936  LP001692  Not Graduate    Semiurban  \n",
       "458       -1.6606       0.350904  LP002928      Graduate    Semiurban  \n",
       "459     -0.936372       -1.16621  LP001693      Graduate        Urban  \n",
       "\n",
       "[460 rows x 11 columns]"
      ]
     },
     "execution_count": 50,
     "metadata": {},
     "output_type": "execute_result"
    }
   ],
   "source": [
    "x_cleaned"
   ]
  },
  {
   "cell_type": "markdown",
   "metadata": {},
   "source": [
    "### Numerical encoding"
   ]
  },
  {
   "cell_type": "code",
   "execution_count": 51,
   "metadata": {},
   "outputs": [],
   "source": [
    "onehot = pre.OneHotEncoder(\n",
    "    drop='if_binary',\n",
    "    categories=[\n",
    "        ['Female', 'Male'],\n",
    "        ['No', 'Yes'],\n",
    "        ['No', 'Yes'],\n",
    "        ['Not Graduate', 'Graduate'],\n",
    "        ['Rural', 'Semiurban', 'Urban']\n",
    "    ]\n",
    ")"
   ]
  },
  {
   "cell_type": "code",
   "execution_count": 52,
   "metadata": {},
   "outputs": [],
   "source": [
    "categorical = compose.ColumnTransformer([\n",
    "    (\n",
    "        'onehot', onehot,\n",
    "        ['Gender', 'Married', 'SelfEmployed', 'Education', 'PropertyArea'],\n",
    "    ),\n",
    "    (\n",
    "        'dependents', pre.OrdinalEncoder(categories=[['0', '1', '2', '3+']]),\n",
    "        ['Dependents'],\n",
    "    ),\n",
    "], remainder='passthrough')"
   ]
  },
  {
   "cell_type": "code",
   "execution_count": 53,
   "metadata": {},
   "outputs": [],
   "source": [
    "categorical_columns = [\n",
    "    'Male', 'Married', 'SelfEmployed', 'Graduate',\n",
    "    'Rural', 'Semiurban', 'Urban', 'Dependents',\n",
    "    'LoanAmountTerm', 'CreditHistory', 'LoanAmountLog', 'TotalIncomeLog', 'LoanID',\n",
    "]"
   ]
  },
  {
   "cell_type": "code",
   "execution_count": 54,
   "metadata": {},
   "outputs": [],
   "source": [
    "categorical_recolumn = prep.ColumnAssigner(categorical_columns)"
   ]
  },
  {
   "cell_type": "code",
   "execution_count": 77,
   "metadata": {},
   "outputs": [],
   "source": [
    "x_coded = pd.DataFrame(categorical.fit_transform(x_cleaned), columns=categorical_columns)"
   ]
  },
  {
   "cell_type": "code",
   "execution_count": 101,
   "metadata": {},
   "outputs": [
    {
     "data": {
      "text/html": [
       "<div>\n",
       "<style scoped>\n",
       "    .dataframe tbody tr th:only-of-type {\n",
       "        vertical-align: middle;\n",
       "    }\n",
       "\n",
       "    .dataframe tbody tr th {\n",
       "        vertical-align: top;\n",
       "    }\n",
       "\n",
       "    .dataframe thead th {\n",
       "        text-align: right;\n",
       "    }\n",
       "</style>\n",
       "<table border=\"1\" class=\"dataframe\">\n",
       "  <thead>\n",
       "    <tr style=\"text-align: right;\">\n",
       "      <th></th>\n",
       "      <th>Male</th>\n",
       "      <th>Married</th>\n",
       "      <th>SelfEmployed</th>\n",
       "      <th>Graduate</th>\n",
       "      <th>Rural</th>\n",
       "      <th>Semiurban</th>\n",
       "      <th>Urban</th>\n",
       "      <th>Dependents</th>\n",
       "      <th>LoanAmountTerm</th>\n",
       "      <th>CreditHistory</th>\n",
       "      <th>LoanAmountLog</th>\n",
       "      <th>TotalIncomeLog</th>\n",
       "      <th>LoanID</th>\n",
       "    </tr>\n",
       "  </thead>\n",
       "  <tbody>\n",
       "    <tr>\n",
       "      <th>0</th>\n",
       "      <td>1</td>\n",
       "      <td>1</td>\n",
       "      <td>0</td>\n",
       "      <td>1</td>\n",
       "      <td>0</td>\n",
       "      <td>0</td>\n",
       "      <td>1</td>\n",
       "      <td>0</td>\n",
       "      <td>360</td>\n",
       "      <td>1</td>\n",
       "      <td>-0.483347</td>\n",
       "      <td>-0.942618</td>\n",
       "      <td>LP002361</td>\n",
       "    </tr>\n",
       "    <tr>\n",
       "      <th>1</th>\n",
       "      <td>1</td>\n",
       "      <td>1</td>\n",
       "      <td>0</td>\n",
       "      <td>1</td>\n",
       "      <td>0</td>\n",
       "      <td>0</td>\n",
       "      <td>1</td>\n",
       "      <td>0</td>\n",
       "      <td>360</td>\n",
       "      <td>1</td>\n",
       "      <td>-0.199629</td>\n",
       "      <td>0.255414</td>\n",
       "      <td>LP001041</td>\n",
       "    </tr>\n",
       "    <tr>\n",
       "      <th>2</th>\n",
       "      <td>0</td>\n",
       "      <td>0</td>\n",
       "      <td>1</td>\n",
       "      <td>0</td>\n",
       "      <td>0</td>\n",
       "      <td>0</td>\n",
       "      <td>1</td>\n",
       "      <td>0</td>\n",
       "      <td>360</td>\n",
       "      <td>1</td>\n",
       "      <td>-0.0303737</td>\n",
       "      <td>1.86582</td>\n",
       "      <td>LP002731</td>\n",
       "    </tr>\n",
       "    <tr>\n",
       "      <th>3</th>\n",
       "      <td>1</td>\n",
       "      <td>0</td>\n",
       "      <td>0</td>\n",
       "      <td>1</td>\n",
       "      <td>1</td>\n",
       "      <td>0</td>\n",
       "      <td>0</td>\n",
       "      <td>2</td>\n",
       "      <td>360</td>\n",
       "      <td>0</td>\n",
       "      <td>-0.936372</td>\n",
       "      <td>-0.936946</td>\n",
       "      <td>LP002545</td>\n",
       "    </tr>\n",
       "    <tr>\n",
       "      <th>4</th>\n",
       "      <td>1</td>\n",
       "      <td>0</td>\n",
       "      <td>0</td>\n",
       "      <td>1</td>\n",
       "      <td>0</td>\n",
       "      <td>1</td>\n",
       "      <td>0</td>\n",
       "      <td>0</td>\n",
       "      <td>360</td>\n",
       "      <td>0</td>\n",
       "      <td>1.31036</td>\n",
       "      <td>1.64278</td>\n",
       "      <td>LP001492</td>\n",
       "    </tr>\n",
       "    <tr>\n",
       "      <th>...</th>\n",
       "      <td>...</td>\n",
       "      <td>...</td>\n",
       "      <td>...</td>\n",
       "      <td>...</td>\n",
       "      <td>...</td>\n",
       "      <td>...</td>\n",
       "      <td>...</td>\n",
       "      <td>...</td>\n",
       "      <td>...</td>\n",
       "      <td>...</td>\n",
       "      <td>...</td>\n",
       "      <td>...</td>\n",
       "      <td>...</td>\n",
       "    </tr>\n",
       "    <tr>\n",
       "      <th>455</th>\n",
       "      <td>1</td>\n",
       "      <td>1</td>\n",
       "      <td>0</td>\n",
       "      <td>1</td>\n",
       "      <td>1</td>\n",
       "      <td>0</td>\n",
       "      <td>0</td>\n",
       "      <td>0</td>\n",
       "      <td>360</td>\n",
       "      <td>1</td>\n",
       "      <td>0.185109</td>\n",
       "      <td>0.0486478</td>\n",
       "      <td>LP001936</td>\n",
       "    </tr>\n",
       "    <tr>\n",
       "      <th>456</th>\n",
       "      <td>1</td>\n",
       "      <td>1</td>\n",
       "      <td>0</td>\n",
       "      <td>1</td>\n",
       "      <td>0</td>\n",
       "      <td>1</td>\n",
       "      <td>0</td>\n",
       "      <td>1</td>\n",
       "      <td>360</td>\n",
       "      <td>1</td>\n",
       "      <td>0.199659</td>\n",
       "      <td>-0.17307</td>\n",
       "      <td>LP001778</td>\n",
       "    </tr>\n",
       "    <tr>\n",
       "      <th>457</th>\n",
       "      <td>0</td>\n",
       "      <td>0</td>\n",
       "      <td>0</td>\n",
       "      <td>0</td>\n",
       "      <td>0</td>\n",
       "      <td>1</td>\n",
       "      <td>0</td>\n",
       "      <td>0</td>\n",
       "      <td>360</td>\n",
       "      <td>1</td>\n",
       "      <td>-0.113237</td>\n",
       "      <td>-0.419936</td>\n",
       "      <td>LP001692</td>\n",
       "    </tr>\n",
       "    <tr>\n",
       "      <th>458</th>\n",
       "      <td>1</td>\n",
       "      <td>1</td>\n",
       "      <td>0</td>\n",
       "      <td>1</td>\n",
       "      <td>0</td>\n",
       "      <td>1</td>\n",
       "      <td>0</td>\n",
       "      <td>0</td>\n",
       "      <td>180</td>\n",
       "      <td>1</td>\n",
       "      <td>-1.6606</td>\n",
       "      <td>0.350904</td>\n",
       "      <td>LP002928</td>\n",
       "    </tr>\n",
       "    <tr>\n",
       "      <th>459</th>\n",
       "      <td>0</td>\n",
       "      <td>0</td>\n",
       "      <td>0</td>\n",
       "      <td>1</td>\n",
       "      <td>0</td>\n",
       "      <td>0</td>\n",
       "      <td>1</td>\n",
       "      <td>0</td>\n",
       "      <td>360</td>\n",
       "      <td>1</td>\n",
       "      <td>-0.936372</td>\n",
       "      <td>-1.16621</td>\n",
       "      <td>LP001693</td>\n",
       "    </tr>\n",
       "  </tbody>\n",
       "</table>\n",
       "<p>460 rows × 13 columns</p>\n",
       "</div>"
      ],
      "text/plain": [
       "    Male Married SelfEmployed Graduate Rural Semiurban Urban Dependents  \\\n",
       "0      1       1            0        1     0         0     1          0   \n",
       "1      1       1            0        1     0         0     1          0   \n",
       "2      0       0            1        0     0         0     1          0   \n",
       "3      1       0            0        1     1         0     0          2   \n",
       "4      1       0            0        1     0         1     0          0   \n",
       "..   ...     ...          ...      ...   ...       ...   ...        ...   \n",
       "455    1       1            0        1     1         0     0          0   \n",
       "456    1       1            0        1     0         1     0          1   \n",
       "457    0       0            0        0     0         1     0          0   \n",
       "458    1       1            0        1     0         1     0          0   \n",
       "459    0       0            0        1     0         0     1          0   \n",
       "\n",
       "    LoanAmountTerm CreditHistory LoanAmountLog TotalIncomeLog    LoanID  \n",
       "0              360             1     -0.483347      -0.942618  LP002361  \n",
       "1              360             1     -0.199629       0.255414  LP001041  \n",
       "2              360             1    -0.0303737        1.86582  LP002731  \n",
       "3              360             0     -0.936372      -0.936946  LP002545  \n",
       "4              360             0       1.31036        1.64278  LP001492  \n",
       "..             ...           ...           ...            ...       ...  \n",
       "455            360             1      0.185109      0.0486478  LP001936  \n",
       "456            360             1      0.199659       -0.17307  LP001778  \n",
       "457            360             1     -0.113237      -0.419936  LP001692  \n",
       "458            180             1       -1.6606       0.350904  LP002928  \n",
       "459            360             1     -0.936372       -1.16621  LP001693  \n",
       "\n",
       "[460 rows x 13 columns]"
      ]
     },
     "execution_count": 101,
     "metadata": {},
     "output_type": "execute_result"
    }
   ],
   "source": [
    "x_coded"
   ]
  },
  {
   "cell_type": "markdown",
   "metadata": {},
   "source": [
    "## 4. Building a Predictive Model"
   ]
  },
  {
   "cell_type": "code",
   "execution_count": 56,
   "metadata": {},
   "outputs": [],
   "source": [
    "labels = ['Y', 'N']"
   ]
  },
  {
   "cell_type": "code",
   "execution_count": 128,
   "metadata": {},
   "outputs": [],
   "source": [
    "def validate(model):\n",
    "    y_pred = model.predict(x_test)\n",
    "    y_pred_proba = model.predict_proba(x_test)\n",
    "    classes = model.classes_\n",
    "    plots.confusionplot(y_test, y_pred, labels)\n",
    "    plt.show()\n",
    "    log_loss = metrics.log_loss(y_test, y_pred_proba, labels=classes)\n",
    "    print(f\"Log loss: {log_loss:.3g}\")"
   ]
  },
  {
   "cell_type": "code",
   "execution_count": 58,
   "metadata": {
    "collapsed": false,
    "jupyter": {
     "outputs_hidden": false
    }
   },
   "outputs": [],
   "source": [
    "def train_baseline():\n",
    "    clf = dummy.DummyClassifier(strategy='prior')\n",
    "    baseline_model = pl.Pipeline([\n",
    "        ('classifier', clf)\n",
    "    ])\n",
    "    baseline_model.fit(x_train, y_train)\n",
    "    return baseline_model"
   ]
  },
  {
   "cell_type": "code",
   "execution_count": 59,
   "metadata": {},
   "outputs": [],
   "source": [
    "baseline = learn.load_or_train('baseline.pkl', train_baseline)"
   ]
  },
  {
   "cell_type": "code",
   "execution_count": 129,
   "metadata": {},
   "outputs": [
    {
     "data": {
      "image/png": "[encoded data removed]",
      "text/plain": [
       "<Figure size 432x288 with 2 Axes>"
      ]
     },
     "metadata": {
      "needs_background": "light"
     },
     "output_type": "display_data"
    },
    {
     "name": "stdout",
     "output_type": "stream",
     "text": [
      "Log loss: 0.642\n"
     ]
    }
   ],
   "source": [
    "validate(baseline)"
   ]
  },
  {
   "cell_type": "code",
   "execution_count": 61,
   "metadata": {},
   "outputs": [],
   "source": [
    "main_steps = [\n",
    "    ('clean', cleaner),\n",
    "    ('clean_columns', cleaner_recolumn),\n",
    "    ('categorical', categorical),\n",
    "    ('categorical_columns', categorical_recolumn),\n",
    "    # Then append column selection/feature engineering\n",
    "]"
   ]
  },
  {
   "cell_type": "code",
   "execution_count": 62,
   "metadata": {},
   "outputs": [],
   "source": [
    "def train_amount_logistic():\n",
    "    clf = lm.LogisticRegression(class_weight='balanced')\n",
    "    scaler = pre.StandardScaler()\n",
    "    model = pl.Pipeline(main_steps + [\n",
    "        ('choose', prep.ColumnKeeper(['TotalIncomeLog', 'LoanAmountLog'])),\n",
    "        ('scale', scaler),\n",
    "        ('classify', clf),\n",
    "    ])\n",
    "    model.fit(x_train, y_train.values.ravel())\n",
    "    return model"
   ]
  },
  {
   "cell_type": "code",
   "execution_count": 64,
   "metadata": {},
   "outputs": [],
   "source": [
    "amount_logistic = learn.load_or_train('amount_logistic.pkl', train_amount_logistic)"
   ]
  },
  {
   "cell_type": "code",
   "execution_count": 130,
   "metadata": {},
   "outputs": [
    {
     "data": {
      "image/png": "[encoded data removed]",
      "text/plain": [
       "<Figure size 432x288 with 2 Axes>"
      ]
     },
     "metadata": {
      "needs_background": "light"
     },
     "output_type": "display_data"
    },
    {
     "name": "stdout",
     "output_type": "stream",
     "text": [
      "Log loss: 0.713\n"
     ]
    }
   ],
   "source": [
    "validate(amount_logistic)"
   ]
  },
  {
   "cell_type": "code",
   "execution_count": 66,
   "metadata": {},
   "outputs": [],
   "source": [
    "def train_everything_logistic():\n",
    "    clf = lm.LogisticRegression(class_weight='balanced')\n",
    "    scaler = pre.StandardScaler()\n",
    "    model = pl.Pipeline(main_steps + [\n",
    "        ('choose', prep.ColumnDropper(['LoanID'])),\n",
    "        ('scale', scaler),\n",
    "        ('classify', clf),\n",
    "    ])\n",
    "    model.fit(x_train, y_train.values.ravel())\n",
    "    return model"
   ]
  },
  {
   "cell_type": "code",
   "execution_count": 67,
   "metadata": {},
   "outputs": [],
   "source": [
    "everything_logistic = learn.load_or_train(\n",
    "    'everything_logistic.pkl', train_everything_logistic\n",
    ")"
   ]
  },
  {
   "cell_type": "code",
   "execution_count": 132,
   "metadata": {},
   "outputs": [
    {
     "data": {
      "text/plain": [
       "array([[0.31581161, 0.68418839],\n",
       "       [0.33762125, 0.66237875],\n",
       "       [0.36229953, 0.63770047],\n",
       "       [0.24915115, 0.75084885],\n",
       "       [0.32314524, 0.67685476],\n",
       "       [0.88654966, 0.11345034],\n",
       "       [0.16274586, 0.83725414],\n",
       "       [0.34351362, 0.65648638],\n",
       "       [0.54342178, 0.45657822],\n",
       "       [0.26433563, 0.73566437],\n",
       "       [0.36803961, 0.63196039],\n",
       "       [0.85643333, 0.14356667],\n",
       "       [0.37449212, 0.62550788],\n",
       "       [0.58635875, 0.41364125],\n",
       "       [0.4224174 , 0.5775826 ],\n",
       "       [0.51796665, 0.48203335],\n",
       "       [0.1965542 , 0.8034458 ],\n",
       "       [0.3240823 , 0.6759177 ],\n",
       "       [0.20507148, 0.79492852],\n",
       "       [0.40266809, 0.59733191],\n",
       "       [0.16717921, 0.83282079],\n",
       "       [0.72687532, 0.27312468],\n",
       "       [0.32006148, 0.67993852],\n",
       "       [0.47275356, 0.52724644],\n",
       "       [0.90021944, 0.09978056],\n",
       "       [0.41581732, 0.58418268],\n",
       "       [0.78594899, 0.21405101],\n",
       "       [0.72151196, 0.27848804],\n",
       "       [0.22356376, 0.77643624],\n",
       "       [0.27880889, 0.72119111],\n",
       "       [0.82590148, 0.17409852],\n",
       "       [0.3715138 , 0.6284862 ],\n",
       "       [0.49715643, 0.50284357],\n",
       "       [0.15997739, 0.84002261],\n",
       "       [0.84113797, 0.15886203],\n",
       "       [0.51724758, 0.48275242],\n",
       "       [0.22344179, 0.77655821],\n",
       "       [0.37417539, 0.62582461],\n",
       "       [0.86705835, 0.13294165],\n",
       "       [0.2604055 , 0.7395945 ],\n",
       "       [0.33856244, 0.66143756],\n",
       "       [0.49333209, 0.50666791],\n",
       "       [0.48618173, 0.51381827],\n",
       "       [0.549684  , 0.450316  ],\n",
       "       [0.44144187, 0.55855813],\n",
       "       [0.7951134 , 0.2048866 ],\n",
       "       [0.2878244 , 0.7121756 ],\n",
       "       [0.27607836, 0.72392164],\n",
       "       [0.83198422, 0.16801578],\n",
       "       [0.23133516, 0.76866484],\n",
       "       [0.26879166, 0.73120834],\n",
       "       [0.92572876, 0.07427124],\n",
       "       [0.19719582, 0.80280418],\n",
       "       [0.90611192, 0.09388808],\n",
       "       [0.42860851, 0.57139149],\n",
       "       [0.34010097, 0.65989903],\n",
       "       [0.73937308, 0.26062692],\n",
       "       [0.15164457, 0.84835543],\n",
       "       [0.55322691, 0.44677309],\n",
       "       [0.82980346, 0.17019654],\n",
       "       [0.40615469, 0.59384531],\n",
       "       [0.47510635, 0.52489365],\n",
       "       [0.84889798, 0.15110202],\n",
       "       [0.79807182, 0.20192818],\n",
       "       [0.15392128, 0.84607872],\n",
       "       [0.40150483, 0.59849517],\n",
       "       [0.41864152, 0.58135848],\n",
       "       [0.54409581, 0.45590419],\n",
       "       [0.47514568, 0.52485432],\n",
       "       [0.6747972 , 0.3252028 ],\n",
       "       [0.74952242, 0.25047758],\n",
       "       [0.45258138, 0.54741862],\n",
       "       [0.29150406, 0.70849594],\n",
       "       [0.37803722, 0.62196278],\n",
       "       [0.65388622, 0.34611378],\n",
       "       [0.11566361, 0.88433639],\n",
       "       [0.24671351, 0.75328649],\n",
       "       [0.33445678, 0.66554322],\n",
       "       [0.19235681, 0.80764319],\n",
       "       [0.2554467 , 0.7445533 ],\n",
       "       [0.41949278, 0.58050722],\n",
       "       [0.32862215, 0.67137785],\n",
       "       [0.43877872, 0.56122128],\n",
       "       [0.81887512, 0.18112488],\n",
       "       [0.85511114, 0.14488886],\n",
       "       [0.27559377, 0.72440623],\n",
       "       [0.32707091, 0.67292909],\n",
       "       [0.83987694, 0.16012306],\n",
       "       [0.330919  , 0.669081  ],\n",
       "       [0.45588847, 0.54411153],\n",
       "       [0.52230587, 0.47769413],\n",
       "       [0.11125649, 0.88874351],\n",
       "       [0.33795719, 0.66204281],\n",
       "       [0.43380444, 0.56619556],\n",
       "       [0.30172798, 0.69827202],\n",
       "       [0.89355508, 0.10644492],\n",
       "       [0.57335292, 0.42664708],\n",
       "       [0.25334933, 0.74665067],\n",
       "       [0.38898559, 0.61101441],\n",
       "       [0.48256458, 0.51743542],\n",
       "       [0.39044855, 0.60955145],\n",
       "       [0.7628085 , 0.2371915 ],\n",
       "       [0.34192455, 0.65807545],\n",
       "       [0.89037317, 0.10962683],\n",
       "       [0.84264995, 0.15735005],\n",
       "       [0.37912444, 0.62087556],\n",
       "       [0.76799805, 0.23200195],\n",
       "       [0.43545363, 0.56454637],\n",
       "       [0.27322503, 0.72677497],\n",
       "       [0.42716081, 0.57283919],\n",
       "       [0.42882826, 0.57117174],\n",
       "       [0.22281198, 0.77718802],\n",
       "       [0.29408093, 0.70591907],\n",
       "       [0.24594741, 0.75405259],\n",
       "       [0.39241932, 0.60758068],\n",
       "       [0.45827359, 0.54172641],\n",
       "       [0.35428273, 0.64571727],\n",
       "       [0.61750578, 0.38249422],\n",
       "       [0.34378477, 0.65621523],\n",
       "       [0.23447989, 0.76552011],\n",
       "       [0.3883729 , 0.6116271 ],\n",
       "       [0.8510379 , 0.1489621 ],\n",
       "       [0.50150022, 0.49849978],\n",
       "       [0.24119476, 0.75880524],\n",
       "       [0.83588899, 0.16411101],\n",
       "       [0.8232516 , 0.1767484 ],\n",
       "       [0.89531598, 0.10468402],\n",
       "       [0.23035842, 0.76964158],\n",
       "       [0.39482315, 0.60517685],\n",
       "       [0.45851132, 0.54148868],\n",
       "       [0.83370117, 0.16629883],\n",
       "       [0.27250484, 0.72749516],\n",
       "       [0.25894131, 0.74105869],\n",
       "       [0.20672406, 0.79327594],\n",
       "       [0.40060347, 0.59939653],\n",
       "       [0.91102796, 0.08897204],\n",
       "       [0.35958169, 0.64041831],\n",
       "       [0.2410233 , 0.7589767 ],\n",
       "       [0.15487529, 0.84512471],\n",
       "       [0.42136896, 0.57863104],\n",
       "       [0.36077916, 0.63922084],\n",
       "       [0.11599452, 0.88400548],\n",
       "       [0.82774353, 0.17225647],\n",
       "       [0.2450566 , 0.7549434 ],\n",
       "       [0.48955866, 0.51044134],\n",
       "       [0.20861268, 0.79138732],\n",
       "       [0.84969406, 0.15030594],\n",
       "       [0.62062466, 0.37937534],\n",
       "       [0.28806606, 0.71193394],\n",
       "       [0.50300036, 0.49699964],\n",
       "       [0.42269422, 0.57730578],\n",
       "       [0.83913269, 0.16086731],\n",
       "       [0.49848063, 0.50151937],\n",
       "       [0.86922103, 0.13077897]])"
      ]
     },
     "execution_count": 132,
     "metadata": {},
     "output_type": "execute_result"
    }
   ],
   "source": [
    "everything_logistic.predict_proba(x_test)"
   ]
  },
  {
   "cell_type": "code",
   "execution_count": 131,
   "metadata": {},
   "outputs": [
    {
     "data": {
      "image/png": "[encoded data removed]",
      "text/plain": [
       "<Figure size 432x288 with 2 Axes>"
      ]
     },
     "metadata": {
      "needs_background": "light"
     },
     "output_type": "display_data"
    },
    {
     "name": "stdout",
     "output_type": "stream",
     "text": [
      "Log loss: 0.601\n"
     ]
    }
   ],
   "source": [
    "validate(everything_logistic)"
   ]
  },
  {
   "cell_type": "code",
   "execution_count": 69,
   "metadata": {},
   "outputs": [
    {
     "data": {
      "text/plain": [
       "{'Male': -0.014901579882740748,\n",
       " 'Married': 0.2691478069775569,\n",
       " 'SelfEmployed': -0.0614581694726902,\n",
       " 'Graduate': 0.10179408716716336,\n",
       " 'Rural': -0.1188217314349409,\n",
       " 'Semiurban': 0.21289945531981247,\n",
       " 'Urban': -0.10539159885588523,\n",
       " 'Dependents': 0.006670847529750653,\n",
       " 'LoanAmountTerm': -0.07245847396746653,\n",
       " 'CreditHistory': 0.9069048814094327,\n",
       " 'LoanAmountLog': -0.4697459514217498,\n",
       " 'TotalIncomeLog': 0.3045447863908801}"
      ]
     },
     "execution_count": 69,
     "metadata": {},
     "output_type": "execute_result"
    }
   ],
   "source": [
    "{\n",
    "    feature: coef for feature, coef\n",
    "    in zip(categorical_columns, everything_logistic.named_steps['classify'].coef_[0])\n",
    "}"
   ]
  },
  {
   "cell_type": "markdown",
   "metadata": {},
   "source": [
    "Try paramater grid search to improve the results"
   ]
  },
  {
   "cell_type": "code",
   "execution_count": null,
   "metadata": {
    "collapsed": false,
    "jupyter": {
     "outputs_hidden": false
    }
   },
   "outputs": [],
   "source": []
  },
  {
   "cell_type": "code",
   "execution_count": null,
   "metadata": {
    "collapsed": false,
    "jupyter": {
     "outputs_hidden": false
    }
   },
   "outputs": [],
   "source": []
  },
  {
   "cell_type": "markdown",
   "metadata": {
    "jupyter": {
     "outputs_hidden": false
    }
   },
   "source": [
    "## 5. Using Pipeline\n",
    "If you didn't use pipelines before, transform your data prep, feat. engineering and modeling steps into Pipeline. It will be helpful for deployment.\n",
    "\n",
    "The goal here is to create the pipeline that will take one row of our dataset and predict the probability of being granted a loan.\n",
    "\n",
    "`pipeline.predict(x)`"
   ]
  },
  {
   "cell_type": "code",
   "execution_count": null,
   "metadata": {},
   "outputs": [],
   "source": []
  },
  {
   "cell_type": "markdown",
   "metadata": {},
   "source": [
    "## 6. Deploy your model to cloud and test it with PostMan, BASH or Python"
   ]
  }
 ],
 "metadata": {
  "kernelspec": {
   "display_name": "loans",
   "language": "python",
   "name": "loans"
  },
  "language_info": {
   "codemirror_mode": {
    "name": "ipython",
    "version": 3
   },
   "file_extension": ".py",
   "mimetype": "text/x-python",
   "name": "python",
   "nbconvert_exporter": "python",
   "pygments_lexer": "ipython3",
   "version": "3.8.8"
  }
 },
 "nbformat": 4,
 "nbformat_minor": 4
}
