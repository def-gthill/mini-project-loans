{
 "cells": [
  {
   "cell_type": "code",
   "execution_count": 1,
   "metadata": {},
   "outputs": [],
   "source": [
    "import requests as req"
   ]
  },
  {
   "cell_type": "code",
   "execution_count": 2,
   "metadata": {},
   "outputs": [],
   "source": [
    "#url = 'http://localhost:5000/loan'\n",
    "url = 'http://ec2-35-183-48-132.ca-central-1.compute.amazonaws.com:5000/loan'"
   ]
  },
  {
   "cell_type": "code",
   "execution_count": 3,
   "metadata": {},
   "outputs": [],
   "source": [
    "header = [\n",
    "    'Loan_ID', 'Gender', 'Married', 'Dependents', 'Education', 'Self_Employed',\n",
    "    'ApplicantIncome', 'CoapplicantIncome', 'LoanAmount', 'Loan_Amount_Term',\n",
    "    'Credit_History', 'Property_Area',\n",
    "]"
   ]
  },
  {
   "cell_type": "code",
   "execution_count": 10,
   "metadata": {},
   "outputs": [],
   "source": [
    "applications = [\n",
    "    ['LP002001', 'Male', 'No', '0', 'Graduate', 'No', 5849, 0.0, None, 360.0, 1.0, 'Urban'],\n",
    "    ['LP002002', 'Male', 'Yes', '1', 'Graduate', 'No', 4583, 1508.0, 128.0, 360.0, 1.0, 'Rural'],\n",
    "    ['LP002003', 'Male', 'Yes', '0', 'Graduate', 'Yes', 3000, 0.0, 66.0, 360.0, 1.0, 'Urban'],\n",
    "    ['LP002004', 'Male', 'No', '0', 'Not Graduate', 'Yes', 2000, 0.0, 200.0, 360.0, 0.0, 'Rural']\n",
    "]"
   ]
  },
  {
   "cell_type": "code",
   "execution_count": 11,
   "metadata": {},
   "outputs": [
    {
     "name": "stdout",
     "output_type": "stream",
     "text": [
      "approved\n",
      "approved\n",
      "approved\n",
      "denied\n"
     ]
    }
   ],
   "source": [
    "for application in applications:\n",
    "    json_data = dict(zip(header, application))\n",
    "    response = req.post(url=url, json=json_data)\n",
    "    print(response.json()['status'])"
   ]
  },
  {
   "cell_type": "code",
   "execution_count": null,
   "metadata": {},
   "outputs": [],
   "source": []
  }
 ],
 "metadata": {
  "kernelspec": {
   "display_name": "lighthouse",
   "language": "python",
   "name": "lighthouse"
  },
  "language_info": {
   "codemirror_mode": {
    "name": "ipython",
    "version": 3
   },
   "file_extension": ".py",
   "mimetype": "text/x-python",
   "name": "python",
   "nbconvert_exporter": "python",
   "pygments_lexer": "ipython3",
   "version": "3.8.8"
  }
 },
 "nbformat": 4,
 "nbformat_minor": 4
}
